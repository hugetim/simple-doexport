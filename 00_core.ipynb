{
 "cells": [
  {
   "cell_type": "code",
   "execution_count": null,
   "metadata": {},
   "outputs": [],
   "source": [
    "# default_exp core"
   ]
  },
  {
   "cell_type": "markdown",
   "metadata": {},
   "source": [
    "# Export stata_kernel notebook\n",
    "\n",
    "> Export a stata_kernel Jupyter notebook to a Stata .do file"
   ]
  },
  {
   "cell_type": "code",
   "execution_count": null,
   "metadata": {},
   "outputs": [],
   "source": [
    "#hide\n",
    "from nbdev.showdoc import *"
   ]
  },
  {
   "cell_type": "markdown",
   "metadata": {},
   "source": [
    "## Basics copied from nbdev\n",
    "https://github.com/fastai/nbdev/blob/master/nbs/00_export.ipynb"
   ]
  },
  {
   "cell_type": "code",
   "execution_count": null,
   "metadata": {},
   "outputs": [],
   "source": [
    "#export\n",
    "from nbdev.imports import *\n",
    "from fastcore.script import *\n",
    "from fastcore.foundation import *\n",
    "#from keyword import iskeyword\n",
    "import nbformat"
   ]
  },
  {
   "cell_type": "code",
   "execution_count": null,
   "metadata": {},
   "outputs": [],
   "source": [
    "#export\n",
    "def read_nb(fname):\n",
    "    \"Read the notebook in `fname`.\"\n",
    "    with open(Path(fname),'r', encoding='utf8') as f: return nbformat.reads(f.read(), as_version=4)"
   ]
  },
  {
   "cell_type": "markdown",
   "metadata": {},
   "source": [
    "## Simpler versions adapted from nbdev"
   ]
  },
  {
   "cell_type": "code",
   "execution_count": null,
   "metadata": {},
   "outputs": [],
   "source": [
    "#export\n",
    "def notebook2do(fname):\n",
    "    \"Create a module file for `fname`.\"\n",
    "    fname = Path(fname)\n",
    "    nb = read_nb(fname)\n",
    "    cells = [(i,c) for i,c in enumerate(nb['cells']) if c['cell_type'] == 'code']\n",
    "    for i,c in cells:\n",
    "        code = c['source']\n",
    "        fname_out = f'{Path(fname).stem}.do'\n",
    "        if i != c['execution_count']:\n",
    "            print(f\"Warning: execution count, {c['execution_count']}, differs from cell number, {i}.\")\n",
    "        with open(fname_out, 'a', encoding='utf8') as f:\n",
    "            f.write(f'**# [{i}]:')\n",
    "            f.write(code)"
   ]
  },
  {
   "cell_type": "code",
   "execution_count": null,
   "metadata": {},
   "outputs": [],
   "source": [
    "#export\n",
    "@call_parse\n",
    "def simple_doexport(fname:Param(\"A stata_kernel notebook name\", str)):\n",
    "    \"Export notebooks matching `fname` to Stata .do files\"\n",
    "    notebook2do(fname=fname)"
   ]
  },
  {
   "cell_type": "code",
   "execution_count": null,
   "metadata": {},
   "outputs": [],
   "source": []
  }
 ],
 "metadata": {
  "kernelspec": {
   "display_name": "Python 3",
   "language": "python",
   "name": "python3"
  }
 },
 "nbformat": 4,
 "nbformat_minor": 2
}
